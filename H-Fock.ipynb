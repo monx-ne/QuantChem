{
 "cells": [
  {
   "cell_type": "markdown",
   "id": "88d950b6",
   "metadata": {},
   "source": [
    "# Método de Hartree-Fock\n",
    "\n",
    "Las ecuaciones de Hartree-Fock son ecuaciones no lineares que pueden ser resueltas con los métodos numéricos apropiados. Sin embargo, en 1951, C.C.J. Roothan demostró que utilizando el método de LCAO, las ecuaciones de Fock se simplifican reformulándose como matrices [1][2].\n",
    "\n",
    "En este ejemplo, se resolverá la ecuación de Roothan $\\textbf{F}\\textbf{C}=\\textbf{S}\\textbf{C}\\pmb{\\epsilon}$ para el ión de hidruro de helio ($HeH^{+}$) siguiendo el algoritmo esquematizado en la siguiente figura[3]:\n",
    "\n",
    "![1](images/im22.png)\n",
    "\n",
    "\n",
    "### Definir sistema de estudio y base\n",
    "\n",
    "El presente proyecto se realizó bajo el sistema de referencia:\n",
    "![1](images/im11.png)\n"
   ]
  },
  {
   "cell_type": "code",
   "execution_count": 1,
   "id": "f1e8fbb9",
   "metadata": {},
   "outputs": [],
   "source": [
    "import numpy as np\n",
    "from numpy import*\n",
    "import scipy\n",
    "from numpy.linalg import inv"
   ]
  },
  {
   "cell_type": "code",
   "execution_count": 2,
   "id": "f8d0876f",
   "metadata": {},
   "outputs": [],
   "source": [
    "dHHe= 1.5117 #a.u.\n",
    "rR1 = 0 #Distancia del origen a núcleo H\n",
    "rR2 = 1.5117  #Distancia del origen a núcleo He\n",
    "\n",
    "ZH= 1\n",
    "ZHe=2\n",
    "dim = 2 #Número de átomos en molécula"
   ]
  },
  {
   "cell_type": "markdown",
   "id": "265bb258",
   "metadata": {},
   "source": [
    "Utilizaremos como funciones base combinaciones lineares de funciones Gaussianas (STO-1G, específicamente). Esto facilita la evaluación de las integrales correspondientes y hará posible utilizar directamente las expresiones ya calculadas en [4].\n",
    "\n",
    "Las funciones base propuestas son funciones Gaussianas contraídas (CGF, por sus siglas en inglés) y tinene la forma:\n",
    "\n",
    "$\\phi^{CGF}_{1s}= \\sum^3_{p=1} d_p \\phi^{GF}_{1s}(\\alpha_p, \\textbf{r}-\\textbf{R}_A )$\n",
    "\n",
    "donde $\\phi^{GF}_{1s}(\\alpha_p, \\textbf{r}-\\textbf{R}_A ) = \\left( \\frac{2 \\alpha}{\\pi} \\right)^{3/4} \\mathrm{e}^{-\\alpha_p|\\textbf{r}-\\textbf{R}_A|^2}$\n",
    "\n",
    "Generaremos el diccionario $BasisDat$ para recopilar los datos de los coeficientes de contracción ($d_p$) y exponenciales ($\\alpha_p$) de cada átomo ($A$) de la molécula [3]. Este diccionario puede expandirse incluyendo los datos de otras bases[5].\n"
   ]
  },
  {
   "cell_type": "code",
   "execution_count": 3,
   "id": "fa8964c3",
   "metadata": {},
   "outputs": [],
   "source": [
    "BasisDat= {'H': {'STO-1G':{'exp':0.4166,\n",
    "                           'coef':0.3996}},               \n",
    "          'He': {'STO-1G':{'exp':0.7739,\n",
    "                           'coef':0.5881}}}\n",
    "\n",
    "dH= BasisDat['H']['STO-1G']['coef']\n",
    "αH=BasisDat['H']['STO-1G']['exp']\n",
    "\n",
    "dHe =BasisDat['He']['STO-1G']['coef']\n",
    "αHe = BasisDat['He']['STO-1G']['exp']\n",
    "\n",
    "alphas =[αH,αHe]\n",
    "ds= [dH,dHe]"
   ]
  },
  {
   "cell_type": "markdown",
   "id": "953d965d",
   "metadata": {},
   "source": [
    "### Definir integrales\n",
    "\n",
    "#### Integrales de traslape $S_{\\mu \\nu}$\n",
    "La integral de traslape para el orbital 1s de H ($\\mu$) y  el orbital 1s de He ($\\nu$) está definida como:\n",
    "\n",
    "$\\mathbf{S}_{\\mu \\nu} = \\int \\mathrm{d} \\mathbf{r} \\phi^{CGF *}_{\\mu} \\phi^{CGF}_{\\nu} $\n",
    "\n",
    "Siendo cada elemento $S_{\\mu\\nu}$ el ya calculado en la ecuación (A9) de [4]:\n",
    "\n",
    "$S_{pq} = \\left( \\frac{\\pi}{\\alpha_{p \\mu} + \\alpha_{q \\nu}} \\right)^{3/2} \\mathrm{exp}[ -\\frac{\\alpha_{p \\mu} \\alpha_{q \\nu}}{\\alpha_{p \\mu}+ \\alpha_{q \\nu}} |\\textbf{R}_A-\\textbf{R}_B|^2]$\n"
   ]
  },
  {
   "cell_type": "code",
   "execution_count": 4,
   "id": "f3d3aa35",
   "metadata": {},
   "outputs": [
    {
     "name": "stdout",
     "output_type": "stream",
     "text": [
      "[[1.         0.50173931]\n",
      " [0.50173931 1.        ]]\n"
     ]
    }
   ],
   "source": [
    "S = zeros((dim,dim))\n",
    "\n",
    "for p in arange(0,dim):\n",
    "    for q in arange(0,dim):\n",
    "        mu = alphas[p]\n",
    "        nu = alphas[q]\n",
    "        N=(4*mu*nu/(pi**2))**0.75\n",
    "        if p==q:\n",
    "            S[p,q] = (pi/(mu+nu))**(1.5)*N*exp(-1*((mu*nu)/(mu+nu))*(rR1)**2)\n",
    "        else:\n",
    "            S[p,q]=(pi/(mu+nu))**(1.5)*N*exp(-1*((mu*nu)/(mu+nu))*(rR2)**2)\n",
    "        #print(mu,nu,N)\n",
    "print(S)"
   ]
  },
  {
   "cell_type": "markdown",
   "id": "aa0364b6",
   "metadata": {},
   "source": [
    "#### Definir $\\hat{H}^{core}_{\\mu \\nu}$\n",
    "El $\\hat{H}^{core}_{\\mu \\nu}$ puede definirse como:\n",
    "\n",
    "$\\hat{H}^{core}_{\\mu \\nu}  = \\textbf{T}_{\\mu \\nu} + \\textbf{V}^{nucH}_{\\mu \\nu} + \\textbf{V}^{nucHe}_{\\mu \\nu}$\n",
    "\n",
    "\n",
    "donde $\\textbf{T}_{\\mu \\nu}$ es la matriz de la energía cinética de un electrón y $\\textbf{V}^{nucC}_{\\mu \\nu}$ es la matriz correspondiente al potencial de atracción entre un electrón y el núcleo $C$. Cada término es calculado de manera similar a $\\mathbf{S}_{\\mu \\nu}$, siendo los correspondientes términos $T_{pq}$, $V^H_{pq}$ y $V^{He}_{pq}$ aquellos calculados en (A11) y (A33) en [4].\n",
    "\n",
    "##### Integral de energía cinética de un electrón  $T_{\\mu \\nu}$\n"
   ]
  },
  {
   "cell_type": "code",
   "execution_count": 5,
   "id": "82f39cbe",
   "metadata": {},
   "outputs": [
    {
     "name": "stdout",
     "output_type": "stream",
     "text": [
      "[[0.6249     0.23945188]\n",
      " [0.23945188 1.16085   ]]\n"
     ]
    }
   ],
   "source": [
    "T = zeros((dim,dim))\n",
    "\n",
    "for p in arange(0,dim):\n",
    "    for q in arange(0,dim):\n",
    "        mu = alphas[p]\n",
    "        nu = alphas[q]\n",
    "        N=(4*mu*nu/(pi**2))**0.75\n",
    "        if p==q:\n",
    "            T[p,q]=N*mu*nu/(mu+nu)*(3.0-2.0*mu*nu*(rR1*rR2)/(mu+nu))*(pi/(mu+nu))**(3/2)*exp(-mu*nu*(rR1*rR2)/(mu+nu))\n",
    "        else:\n",
    "            T[p,q]=N*mu*nu/(mu+nu)*(3.0-2.0*mu*nu*(rR2*rR2)/(mu+nu))*(pi/(mu+nu))**(3/2)*exp(-mu*nu*(rR2*rR2)/(mu+nu))\n",
    "print(T)"
   ]
  },
  {
   "cell_type": "markdown",
   "id": "0070d070",
   "metadata": {},
   "source": [
    "##### Integrales de energía potencial de un electrón y un núcleo $V^{nuc}_{\\mu \\nu}$\n"
   ]
  },
  {
   "cell_type": "code",
   "execution_count": 6,
   "id": "9b527d40",
   "metadata": {},
   "outputs": [],
   "source": [
    "###Definición de funciones F_0 y Rp como se realiza en [6]\n",
    "def F0(t):\n",
    "    \"\"\"\n",
    "    Función F para orbital 1s\n",
    "    \"\"\"\n",
    "    if (t<1e-6):\n",
    "        return 1.0-t/3.0\n",
    "    else:\n",
    "        return 0.5*(pi/t)**0.5*erf(t**0.5)\n",
    "    \n",
    "def erf(t):\n",
    "    \"\"\"\n",
    "    Aproximación para la función de error\n",
    "    \"\"\"\n",
    "    P = 0.3275911\n",
    "    A = [0.254829592,-0.284496736,1.421413741,-1.453152027,1.061405429]\n",
    "    T = 1.0/(1+P*t)\n",
    "    Tn=T\n",
    "    Poly = A[0]*Tn\n",
    "    for i in range(1,5):\n",
    "        Tn=Tn*T\n",
    "        Poly=Poly*A[i]*Tn\n",
    "    return 1.0-Poly*exp(-t*t)"
   ]
  },
  {
   "cell_type": "code",
   "execution_count": 7,
   "id": "388069c0",
   "metadata": {},
   "outputs": [
    {
     "name": "stdout",
     "output_type": "stream",
     "text": [
      "[[-1.02998213 -0.51029092]\n",
      " [-0.51029092 -1.40382341]]\n",
      "[[-2.05996426 -1.88085068]\n",
      " [-1.88085068 -2.80764682]]\n"
     ]
    }
   ],
   "source": [
    "VH = zeros((dim,dim))\n",
    "VHe = zeros((dim,dim))\n",
    "\n",
    "for p in arange(0,dim):\n",
    "    for q in arange(0,dim):\n",
    "        mu = alphas[p]\n",
    "        nu = alphas[q]\n",
    "        N=(4*mu*nu/(pi**2))**0.75\n",
    "\n",
    "        if p==q:\n",
    "            RpH= rR1\n",
    "            RpHe= rR2\n",
    "            VH[p,q] =  -ZH*N*2*pi/(mu+nu)*F0((mu+nu)*((RpH-rR1)**2))*exp(-mu*nu*(rR1**2)/(mu+nu))\n",
    "            VHe[p,q]= -ZHe*N*2*pi/(mu+nu)*F0((mu+nu)*((RpHe-rR2)**2))*exp(-mu*nu*(rR1**2)/(mu+nu))\n",
    "        else:\n",
    "            Rp=(rR1*αH+rR2*αHe)/(αH+αHe)\n",
    "            VH[p,q] =  -ZH*N*2*pi/(mu+nu)*F0((mu+nu)*((Rp-rR1)**2))*exp(-mu*nu*(rR2**2)/(mu+nu))\n",
    "            VHe[p,q]= -ZHe*N*2*pi/(mu+nu)*F0((mu+nu)*((Rp-rR2)**2))*exp(-mu*nu*(rR2**2)/(mu+nu))\n",
    "print(VH)\n",
    "print(VHe)"
   ]
  },
  {
   "cell_type": "code",
   "execution_count": 8,
   "id": "326f2dbd",
   "metadata": {},
   "outputs": [
    {
     "name": "stdout",
     "output_type": "stream",
     "text": [
      "[[-2.46504639 -2.15168972]\n",
      " [-2.15168972 -3.05062023]]\n"
     ]
    }
   ],
   "source": [
    "Hcore = T + VH + VHe \n",
    "print(Hcore)"
   ]
  },
  {
   "cell_type": "markdown",
   "id": "cc3df46d",
   "metadata": {},
   "source": [
    "#### Integrales de 2 electrones $V^{ee}_{\\mu \\nu \\sigma \\lambda}$\n"
   ]
  },
  {
   "cell_type": "code",
   "execution_count": 9,
   "id": "e704d8ed",
   "metadata": {},
   "outputs": [],
   "source": [
    "#Integrales de dos electrones reportadas en [3]\n",
    "Vee = zeros((dim,dim,dim,dim))\n",
    "\n",
    "Vee[0][0][0][0]= 0.7283 #A\n",
    "Vee[1][0][0][0]= Vee[0][1][0][0]= Vee[0][0][1][0]= Vee[0][0][0][1]= 0.3418 #B\n",
    "Vee[1][1][0][0]= Vee[0][0][1][1]= 0.5850 #C\n",
    "Vee[1][0][1][0]= Vee[0][1][0][1]= 0.2192 #D\n",
    "Vee[1][1][1][0]= Vee[0][1][1][1]= Vee[1][0][1][1]= Vee[1][1][0][1]= 0.4368 #E\n",
    "Vee[1][1][1][1]= 0.9927 #F"
   ]
  },
  {
   "cell_type": "markdown",
   "id": "caf48eed",
   "metadata": {},
   "source": [
    "Ya que $S_{\\mu\\nu}$ es hermítica, esta puede diagonalizarse. Esto permitirá resolve la ecuación de Roothan dejando fuera la matriz de traslape. \n",
    "\n",
    "\n",
    "$\\textbf{F}\\textbf{C}=\\textbf{S}\\textbf{C}\\pmb{\\epsilon} \\rightarrow \\textbf{F}'\\textbf{C}'=\\textbf{C}'\\pmb{\\epsilon}$\n",
    "\n",
    "donde $\\textbf{F}' = \\textbf{X}^{\\dagger}\\textbf{F}\\textbf{X}$ y $\\textbf{X}=\\textbf{S}^{1/2}$\n"
   ]
  },
  {
   "cell_type": "code",
   "execution_count": 10,
   "id": "638d41aa",
   "metadata": {},
   "outputs": [],
   "source": [
    "#Obtención de la matriz X\n",
    "eigvalS,U = linalg.eig(S)\n",
    "diagS = dot(U.T,dot(S,U))\n",
    "diagsqrtS = diag(diagonal(diagS)**(-1/2))\n",
    "X = dot(U,dot(diagsqrtS,U.T))"
   ]
  },
  {
   "cell_type": "markdown",
   "id": "38d387c9",
   "metadata": {},
   "source": [
    "### Calcular matriz de Fock $\\textbf{F}$\n"
   ]
  },
  {
   "cell_type": "code",
   "execution_count": 11,
   "id": "2d3c8bdd",
   "metadata": {},
   "outputs": [
    {
     "name": "stdout",
     "output_type": "stream",
     "text": [
      "[0, 0]\n",
      "[[0. 0.]\n",
      " [0. 0.]]\n"
     ]
    }
   ],
   "source": [
    "#Proponer C_i para construcción de P\n",
    "#Construir la matriz de densidad P a partir de C\n",
    "C0 = [0,0]\n",
    "P0 = zeros((dim,dim))\n",
    "\n",
    "for p in arange(0,dim):\n",
    "    for q in arange(0,dim):\n",
    "        P0[p,q] = 2*C0[p]*C0[q]\n",
    "print(C0)\n",
    "print(P0)"
   ]
  },
  {
   "cell_type": "code",
   "execution_count": 12,
   "id": "eaee99a1",
   "metadata": {},
   "outputs": [
    {
     "data": {
      "text/plain": [
       "[[0.0, 0.0], [0.0, 0.0]]"
      ]
     },
     "execution_count": 12,
     "metadata": {},
     "output_type": "execute_result"
    }
   ],
   "source": [
    "#Calcular G0\n",
    "G011=[]; G022=[]; G012=[]\n",
    "for n in arange(0,dim):\n",
    "    for m in arange(0,dim):\n",
    "        g11 = P0[n][m]*(Vee[0][0][n][m]-0.5*Vee[0][m][n][0])\n",
    "        g22 = P0[n][m]*(Vee[1][1][n][m]-0.5*Vee[1][m][n][1])\n",
    "        g12 = P0[n][m]*(Vee[0][1][n][m]-0.5*Vee[0][m][n][1])\n",
    "        G011.append(g11)\n",
    "        G022.append(g22)\n",
    "        G012.append(g12)\n",
    "\n",
    "        G021 = G012\n",
    "G0 = [[sum(G011),sum(G012)],[sum(G021),sum(G022)]]\n",
    "G0"
   ]
  },
  {
   "cell_type": "code",
   "execution_count": 13,
   "id": "2497b285",
   "metadata": {},
   "outputs": [],
   "source": [
    "F0 = Hcore + G0"
   ]
  },
  {
   "cell_type": "markdown",
   "id": "df28c43d",
   "metadata": {},
   "source": [
    "### Transformar $\\textbf{F}$ a matriz $\\textbf{F}'$\n"
   ]
  },
  {
   "cell_type": "code",
   "execution_count": 14,
   "id": "2b87b78a",
   "metadata": {},
   "outputs": [],
   "source": [
    "F0p = X*F0*X"
   ]
  },
  {
   "cell_type": "markdown",
   "id": "c08ed801",
   "metadata": {},
   "source": [
    "### Diagonalizar matriz $\\textbf{F}'$ para obtener $\\pmb{\\epsilon}$ y $\\textbf{C}'$\n"
   ]
  },
  {
   "cell_type": "code",
   "execution_count": 15,
   "id": "431bdcef",
   "metadata": {},
   "outputs": [],
   "source": [
    "eigvalF0p,eigvecF0p = linalg.eig(F0p)\n",
    "ϵ = diag(eigvalF0p)\n",
    "Cp = eigvecF0p.T\n",
    "\n",
    "Cpm1=inv(Cp)"
   ]
  },
  {
   "cell_type": "markdown",
   "id": "cacea99c",
   "metadata": {},
   "source": [
    "### Transformar $\\textbf{C}'$ a $\\textbf{C}$ \n"
   ]
  },
  {
   "cell_type": "code",
   "execution_count": 16,
   "id": "d2702e4f",
   "metadata": {},
   "outputs": [],
   "source": [
    "C = X*Cp"
   ]
  },
  {
   "cell_type": "markdown",
   "id": "1da01d96",
   "metadata": {},
   "source": [
    "### Comparar parámetros para revisar convergencia\n",
    "\n",
    "A partir del paso 4, el procedimiento anterior se simplifica en un loop para buscar la convergencia:\n"
   ]
  },
  {
   "cell_type": "code",
   "execution_count": 17,
   "id": "7caa3540",
   "metadata": {},
   "outputs": [
    {
     "name": "stdout",
     "output_type": "stream",
     "text": [
      "done\n",
      "EHF = -5.758039504430062\n"
     ]
    }
   ],
   "source": [
    "delta = 0.0003 #parámetro para convergencia\n",
    "maxit = 100 #máximo número de iteraciones\n",
    "Cs = []\n",
    "Cs.append([[0,0],[0,0]])\n",
    "\n",
    "Es=[]\n",
    "\n",
    "for i in range(maxit):\n",
    "    \n",
    "    #print('Iteración',n)\n",
    "    P = zeros((dim,dim))\n",
    "    for p in arange(0,dim):\n",
    "        for q in arange(0,dim):\n",
    "            P[p,q] = 2*Cs[i][0][p]*Cs[i][1][q]\n",
    "            \n",
    "    G11=[]; G22=[]; G12=[]\n",
    "    for n in arange(0,dim):\n",
    "        for m in arange(0,dim):\n",
    "            g11 = P[n][m]*(Vee[0][0][n][m]-0.5*Vee[0][m][n][0])\n",
    "            g22 = P[n][m]*(Vee[1][1][n][m]-0.5*Vee[1][m][n][1])\n",
    "            g12 = P[n][m]*(Vee[0][1][n][m]-0.5*Vee[0][m][n][1])\n",
    "            G11.append(g11)\n",
    "            G22.append(g22)\n",
    "            G12.append(g12)\n",
    "    G21 = G12\n",
    "    G = [[sum(G11),sum(G12)],[sum(G21),sum(G22)]]\n",
    "\n",
    "    F = Hcore + G\n",
    "    Fp = X*F*X\n",
    "    eigvalFp,eigvecFp = linalg.eig(Fp)\n",
    "    \n",
    "    ϵ = diag(eigvalFp)\n",
    "    Cp = eigvecFp.T\n",
    "    Cpm1=inv(Cp)\n",
    "    Ci = X*Cp\n",
    "    Cs.append(Ci)\n",
    "\n",
    "    E = trace(ϵ + 0.5*(P*Hcore))\n",
    "\n",
    "    Es.append(E)\n",
    "    diff=abs(Es[i]-Es[i-1])\n",
    "    \n",
    "    if i>1 and diff==0:\n",
    "        print('done')\n",
    "        print('EHF =',E)\n",
    "        break"
   ]
  }
 ],
 "metadata": {
  "kernelspec": {
   "display_name": "Python 3 (ipykernel)",
   "language": "python",
   "name": "python3"
  },
  "language_info": {
   "codemirror_mode": {
    "name": "ipython",
    "version": 3
   },
   "file_extension": ".py",
   "mimetype": "text/x-python",
   "name": "python",
   "nbconvert_exporter": "python",
   "pygments_lexer": "ipython3",
   "version": "3.9.10"
  }
 },
 "nbformat": 4,
 "nbformat_minor": 5
}
