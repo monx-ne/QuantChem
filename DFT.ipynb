{
  "cells": [
    {
      "cell_type": "markdown",
      "metadata": {},
      "source": [
        "# Teoría de los funcionales de la densidad (DFT)\n",
        "\n",
        "## Análisis de cargas\n"
      ],
      "id": "d46d2676"
    },
    {
      "cell_type": "code",
      "metadata": {},
      "source": [
        "from ase.build import molecule\n",
        "from ase.io import write\n",
        "from ase.units import Bohr\n",
        "from gpaw import GPAW\n",
        "from gpaw.analyse.hirshfeld import HirshfeldPartitioning"
      ],
      "id": "f4a44ee3",
      "execution_count": null,
      "outputs": []
    },
    {
      "cell_type": "code",
      "metadata": {},
      "source": [
        "atoms = molecule('H2O')\n",
        "atoms.center(vacuum=3.5)\n",
        "atoms.calc = GPAW(h=0.17, txt='h2o.txt')\n",
        "atoms.get_potential_energy()\n",
        "atoms.get_chemical_symbols()"
      ],
      "id": "2ffeab71",
      "execution_count": null,
      "outputs": []
    },
    {
      "cell_type": "code",
      "metadata": {},
      "source": [
        "# Cargas de Hirshfeld \n",
        "hf = HirshfeldPartitioning(atoms.calc)\n",
        "for atom, charge in zip(atoms, hf.get_charges()):\n",
        "    atom.charge = charge\n",
        "    print (charge)\n",
        "\n",
        "atoms.copy().write('Hirshfeld.traj')\n",
        "\n",
        "# Crear Densidad electrónica y escribir\n",
        "rho = atoms.calc.get_all_electron_density(gridrefinement=4)\n",
        "write('density.cube', atoms, data=rho * Bohr**3)"
      ],
      "id": "af6f9769",
      "execution_count": null,
      "outputs": []
    }
  ],
  "metadata": {
    "kernelspec": {
      "name": "python3",
      "language": "python",
      "display_name": "Python 3 (ipykernel)"
    }
  },
  "nbformat": 4,
  "nbformat_minor": 5
}