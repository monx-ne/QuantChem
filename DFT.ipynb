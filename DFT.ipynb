{
  "cells": [
    {
      "cell_type": "markdown",
      "metadata": {},
      "source": [
        "# Teoría de los funcionales de la densidad (DFT)\n",
        "\n",
        "La Teoría de los Funcionales de la Densidad (DFT, por sus siglas en inglés) trabaja sobre la premisa de que cualquier propiedad de un sistema de varias partículas que interactúan puede visualizarse como un funcional de la densidad del estado basal $n_0(\\textbf{r})$ [ver @Martin2008-gc]. A continuación, se presentan tres ejemplos del cálculo de propiedades de diferentes sistemas utilizando GPAW, una librería de Python basada en DFT, el método PAW y el ambiente de simulación atómica ASE [ver @GPAW_2023]. \n",
        "\n",
        "## Análisis de cargas\n",
        "\n",
        "Las cargas de Hirshfeld se definen respecto a a una deformación de la densidad electrónica. Bajo este esquema, para una descripción cuantitativa \n",
        "de la distribución de carga en moléculas o sólidos es conveniente dividir el sistema en fragmentos conformados por átomos, lo\n",
        "que resulta en un compartimento de la densidad y una fuerte localización de la carga entre ellos. Considerando las deformación de la densidad atómica (ssiendo esta una comparación entre átomos enlazados vs átomos libres) \n",
        "se definen cargas atómicas netas y momentos multipolo, siendo estos los elementos usados para definir la reorganización de la carga en toda la molécula. Esto permite calcular el potencial electroestático externo y la energía de interacción \n",
        "entre moléculas o partes de la misma molécula [ver @Hirshfeld1977].\n",
        "\n",
        "A continuación, se muestra un ejemplo de código para el análisis de carga para la molécula de HCN en el esquema de Hirshfeld utilizando la librería GPAW.\n"
      ],
      "id": "a2ca2772"
    },
    {
      "cell_type": "code",
      "metadata": {},
      "source": [
        "from ase.build import molecule\n",
        "from ase.io import write\n",
        "from ase.units import Bohr\n",
        "from gpaw import GPAW\n",
        "from gpaw.analyse.hirshfeld import HirshfeldPartitioning\n",
        "import numpy as np\n",
        "import time\n",
        "from pylab import *"
      ],
      "id": "985c94d1",
      "execution_count": null,
      "outputs": []
    },
    {
      "cell_type": "markdown",
      "metadata": {},
      "source": [
        "{{< embed QuantChem_DFT-AnCarg.ipynb#fig-conv-hs >}}\n",
        "\n",
        "\n",
        "\n",
        "\n",
        "\n",
        "\n",
        "## Orbitales moleculares\n",
        "\n",
        "Los orbitales moleculares son el producto de una combinación lineal de orbitales atómicos. Estos se obtienen mediante la adición o substracción de las ecuaciones\n",
        "\n",
        "notebook-view:\n",
        "  - notebook: QuantChem_DFT-OM.ipynb\n",
        "    title: \"Orbitale moleculares\"\n",
        "    url: https://colab.research.google.com/drive/1ScEn-_JFap2G_YVkTGJeTCdOwuC3WVGy?usp=sharing\n",
        "\n",
        "## Estructura de bandas y análisis de hibridación de orbitales\n",
        "\n",
        "notebook-view:\n",
        "  - notebook: QuantChem_DFT-EstBandyHib.ipynb\n",
        "    title: \"Estructura de bandas e hibridación de orbitales\"\n",
        "    url: https://colab.research.google.com/drive/19Ur1K-oclYn760U0xKHxotvf59xvMNbN?usp=sharing"
      ],
      "id": "2807c871"
    }
  ],
  "metadata": {
    "kernelspec": {
      "name": "python3",
      "language": "python",
      "display_name": "Python 3 (ipykernel)"
    }
  },
  "nbformat": 4,
  "nbformat_minor": 5
}