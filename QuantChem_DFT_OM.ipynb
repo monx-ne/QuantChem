{
  "nbformat": 4,
  "nbformat_minor": 0,
  "metadata": {
    "colab": {
      "provenance": []
    },
    "kernelspec": {
      "name": "python3",
      "display_name": "Python 3"
    },
    "language_info": {
      "name": "python"
    }
  },
  "cells": [
    {
      "cell_type": "markdown",
      "source": [
        "# Orbitales moleculares de la piridina"
      ],
      "metadata": {
        "id": "WCiPpGgWQ-Dz"
      }
    },
    {
      "cell_type": "markdown",
      "source": [
        "Instalamos ASE y GPAW\n",
        "https://wiki.fysik.dtu.dk/ase/install.html\n",
        "https://wiki.fysik.dtu.dk/gpaw/install.html\n"
      ],
      "metadata": {
        "id": "ENrh88MvRGoA"
      }
    },
    {
      "cell_type": "code",
      "source": [
        "%%capture\n",
        "!apt install python3-mpi4py cython3 libxc-dev gpaw-data\n",
        "!pip -q install gpaw pymatgen"
      ],
      "metadata": {
        "id": "iNtjm3EJRJc5"
      },
      "execution_count": 1,
      "outputs": []
    },
    {
      "cell_type": "code",
      "source": [
        "from ase import Atoms\n",
        "from ase.io import read, write\n",
        "from gpaw import GPAW, PW, FermiDirac\n",
        "from ase.build import molecule\n",
        "from ase.visualize import view\n",
        "import matplotlib.pyplot as plt\n",
        "from scipy import *\n",
        "import numpy as np\n",
        "import time"
      ],
      "metadata": {
        "id": "6ZLiDGvfQ6q2"
      },
      "execution_count": 2,
      "outputs": []
    },
    {
      "cell_type": "code",
      "source": [
        "Pyr = molecule('C5H5N')  # Molécula de Piridina\n",
        "a = 12\n",
        "Pyr.set_cell((a,a,a))\n",
        "Pyr.center() # Caja de dimensiones a*a*a que contiene la molécula en el centro."
      ],
      "metadata": {
        "id": "-qv66l8QRLJD"
      },
      "execution_count": 3,
      "outputs": []
    },
    {
      "cell_type": "markdown",
      "source": [
        "## Cálculo de Energía"
      ],
      "metadata": {
        "id": "YC3jCMCtROCa"
      }
    },
    {
      "cell_type": "code",
      "source": [
        "calc = GPAW(mode=PW(300), #Calculador considerando P-W\n",
        "            txt = f'gpaw-pyridine-pw.txt')\n",
        "Pyr.set_calculator(calc)"
      ],
      "metadata": {
        "id": "P7r-gf4DRS3q"
      },
      "execution_count": 4,
      "outputs": []
    },
    {
      "cell_type": "code",
      "source": [
        "t1 = time.time()\n",
        "E_pw = Pyr.get_potential_energy()\n",
        "t2 = time.time()\n",
        "print(E_pw, t2-t1)"
      ],
      "metadata": {
        "colab": {
          "base_uri": "https://localhost:8080/"
        },
        "id": "9eJB0oh2RTqv",
        "outputId": "5433ae07-8bfd-4ca5-b083-5f3c6a4fec0a"
      },
      "execution_count": 5,
      "outputs": [
        {
          "output_type": "stream",
          "name": "stdout",
          "text": [
            "-66.53529152892413 46.891409158706665\n"
          ]
        }
      ]
    },
    {
      "cell_type": "code",
      "source": [
        "PyrEigvalsPW = calc.get_eigenvalues() # Calcula eigenvalores para la molécula"
      ],
      "metadata": {
        "id": "W2YadEIQRVas"
      },
      "execution_count": 6,
      "outputs": []
    },
    {
      "cell_type": "code",
      "source": [
        "PyrMO_occPW = calc.get_occupation_numbers() # Calcula los números de ocupación en los orbitales moleculares"
      ],
      "metadata": {
        "id": "DTi5o7XBRXb2"
      },
      "execution_count": 7,
      "outputs": []
    },
    {
      "cell_type": "code",
      "source": [
        "orbho = None\n",
        "orblu = None\n",
        "for i in range(len(PyrMO_occPW)):\n",
        "  if PyrMO_occPW[i]== 0:\n",
        "    orbho = i-1\n",
        "    orblu = i\n",
        "    print('El orbital', orbho , 'corresponde al HOMO.')\n",
        "    print('El orbital', orblu ,'corresponde al LUMO.')\n",
        "    break"
      ],
      "metadata": {
        "colab": {
          "base_uri": "https://localhost:8080/"
        },
        "id": "FQ471yHyRapG",
        "outputId": "64319004-8ba1-4c3c-8d18-2a4813f8c3da"
      },
      "execution_count": 8,
      "outputs": [
        {
          "output_type": "stream",
          "name": "stdout",
          "text": [
            "El orbital 14 corresponde al HOMO.\n",
            "El orbital 15 corresponde al LUMO.\n"
          ]
        }
      ]
    },
    {
      "cell_type": "code",
      "source": [
        "HOMO = calc.get_pseudo_wave_function(band= orbho, periodic = False)\n",
        "LUMO = calc.get_pseudo_wave_function(band= orblu, periodic = False)\n",
        "write('Pyridine_HOMO-PW.cube', Pyr, data = HOMO)\n",
        "write('Pyridine_LUMO-PW.cube', Pyr, data = LUMO)"
      ],
      "metadata": {
        "id": "nseYDxECRc9D"
      },
      "execution_count": 9,
      "outputs": []
    },
    {
      "cell_type": "code",
      "source": [],
      "metadata": {
        "id": "orFdLxvRRkPt"
      },
      "execution_count": 9,
      "outputs": []
    },
    {
      "cell_type": "code",
      "source": [],
      "metadata": {
        "id": "idf7Bn7SZYhy"
      },
      "execution_count": 9,
      "outputs": []
    }
  ]
}