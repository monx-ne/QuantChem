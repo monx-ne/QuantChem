{
  "cells": [
    {
      "cell_type": "markdown",
      "metadata": {
        "id": "NOalcBOBLCXu"
      },
      "source": [
        "# Análisis de cargas en HCN"
      ]
    },
    {
      "cell_type": "markdown",
      "metadata": {
        "id": "-YeujQGPLIbk"
      },
      "source": [
        "Instalamos ASE y GPAW\n",
        "https://wiki.fysik.dtu.dk/ase/install.html\n",
        "https://wiki.fysik.dtu.dk/gpaw/install.html\n"
      ]
    },
    {
      "cell_type": "code",
      "execution_count": null,
      "metadata": {
        "id": "BH68AEDoFGMf"
      },
      "outputs": [],
      "source": [
        "#(Instalación en terminal o Colab)\n",
        "%%capture\n",
        "!apt install python3-mpi4py cython3 libxc-dev gpaw-data\n",
        "!pip -q install gpaw pymatgen"
      ]
    },
    {
      "cell_type": "markdown",
      "metadata": {
        "id": "290F3N4hLWDA"
      },
      "source": [
        "Importamos bibliotecas"
      ]
    },
    {
      "cell_type": "code",
      "execution_count": null,
      "metadata": {
        "id": "HfKdUZ6-FNih"
      },
      "outputs": [],
      "source": [
        "from ase.build import molecule\n",
        "from ase.io import write\n",
        "from ase.units import Bohr\n",
        "from gpaw import GPAW\n",
        "from gpaw.analyse.hirshfeld import HirshfeldPartitioning\n",
        "import numpy as np\n",
        "import time\n",
        "from pylab import *"
      ]
    },
    {
      "cell_type": "markdown",
      "metadata": {
        "id": "FSG296w3Lfuw"
      },
      "source": [
        "## Convergencia de resolución de mallado"
      ]
    },
    {
      "cell_type": "code",
      "execution_count": null,
      "metadata": {
        "colab": {
          "base_uri": "https://localhost:8080/"
        },
        "id": "1SBLp0MuFYN_",
        "outputId": "9d975d25-20f1-4fd1-e263-2ab31f8e1f4d"
      },
      "outputs": [
        {
          "name": "stdout",
          "output_type": "stream",
          "text": [
            "0.37 6.552207926075329 5.487196445465088\n",
            "0.30000000000000004 -17.552860386515555 7.910893440246582\n",
            "0.23 -20.859763042195127 12.00173306465149\n",
            "0.16 -20.78823666191357 15.016490936279297\n",
            "0.09 -20.789649125297505 94.44020438194275\n"
          ]
        }
      ],
      "source": [
        "hs=[]\n",
        "\n",
        "a=np.arange(0.09,0.4,0.07)\n",
        "\n",
        "for hi in np.sort(a)[::-1]: #eV\n",
        "    atoms = molecule ('HCN')\n",
        "    atoms.center(vacuum = 3)\n",
        "    atoms.calc = GPAW(h = hi, txt = 'hcn.txt')\n",
        "\n",
        "    t0 = time.time()\n",
        "    energy = atoms.get_potential_energy()\n",
        "    t1 = time.time()\n",
        "    Etime = t1-t0\n",
        "    hs.append([hi,energy])\n",
        "    print(hi, energy, Etime)\n"
      ]
    },
    {
      "cell_type": "code",
      "execution_count": null,
      "metadata": {
        "id": "4xlIKgRFFbQY"
      },
      "outputs": [],
      "source": [
        "hs = np.array(hs)"
      ]
    },
    {
      "cell_type": "code",
      "execution_count": null,
      "metadata": {
        "colab": {
          "base_uri": "https://localhost:8080/",
          "height": 467
        },
        "id": "TmBM06QmFbKL",
        "outputId": "a0ef4885-7afa-43f1-c2b7-1edbe1016d66"
      },
      "outputs": [
        {
          "data": {
            "text/plain": [
              "Text(0, 0.5, 'Energía [eV]')"
            ]
          },
          "execution_count": 5,
          "metadata": {},
          "output_type": "execute_result"
        },
        {
          "data": {
            "image/png": "[encoded data removed]",
            "text/plain": [
              "<Figure size 640x480 with 1 Axes>"
            ]
          },
          "metadata": {},
          "output_type": "display_data"
        }
      ],
      "source": [
        "#| label: fig-conv-hs\n",
        "#| fig-cap: >\n",
        "#|  Plot de convergencia\n",
        "plt.plot(hs[:,0],hs[:,1],'o-')\n",
        "plt.plot([0.1,1],[hs[-1,1],hs[-1,1]],'r--')\n",
        "plt.plot([0.1,1],[hs[-1,1]+0.001,hs[-1,1]+0.001],'b--')\n",
        "plt.plot([0.1,1],[hs[-1,1]-0.001,hs[-1,1]-0.001],'b--')\n",
        "\n",
        "plt.xlabel('Resolución de supercelda')\n",
        "plt.ylabel('Energía [eV]')"
      ]
    },
    {
      "cell_type": "code",
      "execution_count": null,
      "metadata": {
        "colab": {
          "base_uri": "https://localhost:8080/"
        },
        "id": "Da88hH_UFbIE",
        "outputId": "d5cae2fc-72df-4d15-b03a-b60699a84048"
      },
      "outputs": [
        {
          "name": "stdout",
          "output_type": "stream",
          "text": [
            "El espaciado de la malla para la convergencia es 0.16\n"
          ]
        }
      ],
      "source": [
        "hConv = None\n",
        "delta = 1e-1 #Parámetro de convergencia\n",
        "\n",
        "for i in range(len(hs)):\n",
        "  g = np.gradient(hs,axis=0)\n",
        "  if abs(g[i][1]) < delta:\n",
        "    hConv = hs[i][0]\n",
        "    print('El espaciado de la malla para la convergencia es',hConv)\n",
        "    break"
      ]
    },
    {
      "cell_type": "markdown",
      "metadata": {
        "id": "519LZHPGLqH3"
      },
      "source": [
        "## Convergencia del tamaño de la supercelda"
      ]
    },
    {
      "cell_type": "code",
      "execution_count": null,
      "metadata": {
        "colab": {
          "base_uri": "https://localhost:8080/"
        },
        "id": "41Pze6ZWFbF3",
        "outputId": "760b18a8-c03d-4f6e-fc93-52acc6e2a437"
      },
      "outputs": [
        {
          "name": "stdout",
          "output_type": "stream",
          "text": [
            "3 -20.78823666191357 12.023082733154297\n",
            "4 -20.81830502357433 25.096040725708008\n",
            "5 -20.811299818567306 42.868160009384155\n",
            "6 -20.80775261527836 69.19943809509277\n",
            "7 -20.805840454589784 106.19662666320801\n",
            "8 -20.804225238824188 140.49988293647766\n",
            "9 -20.80317808391598 204.4915623664856\n",
            "10 -20.80236882889115 268.70350313186646\n",
            "11 -20.801889423630215 362.48192596435547\n",
            "12 -20.801920350966036 510.1052327156067\n"
          ]
        }
      ],
      "source": [
        "vac=[]\n",
        "\n",
        "for supercell in np.arange(3,13): #eV\n",
        "    atoms = molecule ('HCN')\n",
        "    atoms.center(vacuum = supercell)\n",
        "    atoms.calc = GPAW(h = hConv, txt = f'hcn-{supercell:d}.txt')\n",
        "\n",
        "    t0 = time.time()\n",
        "    energy = atoms.get_potential_energy()\n",
        "    t1 = time.time()\n",
        "    Etime = t1-t0\n",
        "    vac.append([supercell,energy])\n",
        "    print(supercell, energy, Etime)"
      ]
    },
    {
      "cell_type": "code",
      "execution_count": null,
      "metadata": {
        "id": "ZyDid45sJUhe"
      },
      "outputs": [],
      "source": [
        "vac = np.array(vac)"
      ]
    },
    {
      "cell_type": "code",
      "execution_count": null,
      "metadata": {
        "colab": {
          "base_uri": "https://localhost:8080/",
          "height": 466
        },
        "id": "Dm8jyF7ZJWdK",
        "outputId": "fb4a3a6f-af37-4d13-9555-1b3a46359188"
      },
      "outputs": [
        {
          "data": {
            "text/plain": [
              "Text(0, 0.5, 'Energía [eV]')"
            ]
          },
          "execution_count": 9,
          "metadata": {},
          "output_type": "execute_result"
        },
        {
          "data": {
            "image/png": "[encoded data removed]",
            "text/plain": [
              "<Figure size 640x480 with 1 Axes>"
            ]
          },
          "metadata": {},
          "output_type": "display_data"
        }
      ],
      "source": [
        "plt.plot(vac[:,0],vac[:,1],'o-')\n",
        "plt.plot([3,13],[vac[-1,1],vac[-1,1]],'r--')\n",
        "plt.plot([3,13],[vac[-1,1]+0.001,vac[-1,1]+0.001],'b--')\n",
        "plt.plot([3,13],[vac[-1,1]-0.001,vac[-1,1]-0.001],'b--')\n",
        "\n",
        "plt.xlabel('Tamaño de supercelda')\n",
        "plt.ylabel('Energía [eV]')"
      ]
    },
    {
      "cell_type": "markdown",
      "metadata": {
        "id": "IvbA5FrQLwA6"
      },
      "source": [
        "## Calculo de energía y cargas con parámetros convergidos"
      ]
    },
    {
      "cell_type": "code",
      "execution_count": null,
      "metadata": {
        "colab": {
          "base_uri": "https://localhost:8080/"
        },
        "id": "6IrNZrS3JYZq",
        "outputId": "acb247aa-3a50-4c94-b9de-eb985e1a7d93"
      },
      "outputs": [
        {
          "name": "stdout",
          "output_type": "stream",
          "text": [
            "El tamaño de la supercelda para la convergencia es 11.0\n"
          ]
        }
      ],
      "source": [
        "SCellConv = None\n",
        "delta = 3e-4 #Parámetro de convergencia\n",
        "\n",
        "for i in range(len(vac)):\n",
        "  g = np.gradient(vac,axis=0)\n",
        "  #print(g)\n",
        "  if abs(g[i][1]) < delta:\n",
        "    SCellConv = vac[i][0]\n",
        "    print('El tamaño de la supercelda para la convergencia es',SCellConv)\n",
        "    break"
      ]
    },
    {
      "cell_type": "code",
      "execution_count": null,
      "metadata": {
        "colab": {
          "base_uri": "https://localhost:8080/"
        },
        "id": "0-iqfJUXJaQi",
        "outputId": "9d98dfcf-5e5d-47a1-8653-9b005070ba64"
      },
      "outputs": [
        {
          "data": {
            "text/plain": [
              "-20.801889423630215"
            ]
          },
          "execution_count": 11,
          "metadata": {},
          "output_type": "execute_result"
        }
      ],
      "source": [
        "atoms = molecule('HCN')\n",
        "atoms.center(vacuum=SCellConv)\n",
        "atoms.calc = GPAW(h=hConv, txt='hcn.txt')\n",
        "atoms.get_potential_energy()"
      ]
    },
    {
      "cell_type": "code",
      "execution_count": null,
      "metadata": {
        "colab": {
          "base_uri": "https://localhost:8080/"
        },
        "id": "9xIhr2caJcWk",
        "outputId": "99ac0e25-39e0-47be-8e20-517ff374989e"
      },
      "outputs": [
        {
          "name": "stdout",
          "output_type": "stream",
          "text": [
            "0.04359468562323254\n",
            "-0.17510036425308595\n",
            "0.13217884839219185\n"
          ]
        }
      ],
      "source": [
        "# Cargas de Hirshfeld\n",
        "hf = HirshfeldPartitioning(atoms.calc)\n",
        "for atom, charge in zip(atoms, hf.get_charges()):\n",
        "    atom.charge = charge\n",
        "    print (charge)\n",
        "\n",
        "atoms.copy().write('Hirshfeld.traj')\n",
        "\n",
        "# Crear Densidad electrónica y escribir\n",
        "rho = atoms.calc.get_all_electron_density(gridrefinement=4)\n",
        "write('density.cube', atoms, data=rho * Bohr**3)"
      ]
    },
    {
      "cell_type": "markdown",
      "metadata": {
        "id": "s3GHP4KbwDN2"
      },
      "source": [
        "Si leemos el documento density.cube en VESTA, obsarevamos la siguiente imagen:"
      ]
    },
    {
      "cell_type": "code",
      "execution_count": null,
      "metadata": {
        "id": "tbkCxoVnU4LU"
      },
      "outputs": [],
      "source": []
    }
  ],
  "metadata": {
    "colab": {
      "provenance": []
    },
    "kernelspec": {
      "display_name": "Python 3",
      "name": "python3"
    },
    "language_info": {
      "name": "python"
    }
  },
  "nbformat": 4,
  "nbformat_minor": 0
}
